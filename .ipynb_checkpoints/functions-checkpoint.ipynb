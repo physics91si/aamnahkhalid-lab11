{
 "cells": [
  {
   "cell_type": "code",
   "execution_count": 14,
   "metadata": {
    "collapsed": false
   },
   "outputs": [
    {
     "name": "stdout",
     "output_type": "stream",
     "text": [
      "[1, 4, 9, 16, 25, 36, 49, 64, 81, 100]\n",
      "['test1', 'test2', 'test3', 'text.txt', 'my.xls']\n",
      "['test1', 'test2', 'test3']\n"
     ]
    }
   ],
   "source": [
    "import numpy as np\n",
    "from functools import reduce\n",
    "\n",
    "\n",
    "squares = list(map(lambda n: n**2, range(1,11)))\n",
    "\n",
    "print(squares)\n",
    "multiples= reduce(lambda x,y: x*y, range(1,6))\n",
    "line = \"test1.py test2.py test3.py text.txt my.xls\"\n",
    "files= [name.replace(\".py\", \"\") for name in line.split()]\n",
    "print(files)\n",
    "\n",
    "files_bonus= [name.replace(\".py\", \"\") for name in line.split() if (\".py\" in name)]\n",
    "print(files_bonus)\n",
    "\n"
   ]
  },
  {
   "cell_type": "code",
   "execution_count": null,
   "metadata": {
    "collapsed": true
   },
   "outputs": [],
   "source": []
  }
 ],
 "metadata": {
  "kernelspec": {
   "display_name": "Python 3",
   "language": "python",
   "name": "python3"
  },
  "language_info": {
   "codemirror_mode": {
    "name": "ipython",
    "version": 3
   },
   "file_extension": ".py",
   "mimetype": "text/x-python",
   "name": "python",
   "nbconvert_exporter": "python",
   "pygments_lexer": "ipython3",
   "version": "3.6.0"
  }
 },
 "nbformat": 4,
 "nbformat_minor": 2
}
