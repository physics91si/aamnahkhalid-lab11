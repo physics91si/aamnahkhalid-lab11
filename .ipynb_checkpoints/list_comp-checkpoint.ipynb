{
 "cells": [
  {
   "cell_type": "code",
   "execution_count": 38,
   "metadata": {
    "collapsed": false
   },
   "outputs": [
    {
     "name": "stdout",
     "output_type": "stream",
     "text": [
      "[['a', 'aa', 'aaa'], ['B', 'bb', 'bbb'], ['c', 'CC', 'ccc'], ['d', 'dd', 'ddd'], ['E', 'ee', 'eee'], ['g', 'gg', 'ggg'], ['H', 'hh', 'hhh'], ['i', 'II', 'iii'], ['j', 'jj', 'jjj']]\n"
     ]
    }
   ],
   "source": [
    "import string\n",
    "\n",
    "l1= [string.ascii_lowercase[n] for n in range(10)]\n",
    "l2= [string.ascii_lowercase[n] for n in range(10) if n is not 5]\n",
    "l3= [ string.ascii_lowercase[n]*x for x in [1,2,3]  for n in range(10) if n is not 5]\n",
    "l4 = [[ string.ascii_lowercase[n]*x for x in [1,2,3]]  for n in range(10) if n is not 5]\n",
    "def f(string, x, n):\n",
    "    if x == n%3:\n",
    "        return string.upper()\n",
    "    else: \n",
    "        return string\n",
    "    \n",
    "    \n",
    "l5 = [[ f(string.ascii_lowercase[n]*x, x, n) for x in [1,2,3]]  for n in range(10) if n is not 5]\n",
    "print(l5)"
   ]
  },
  {
   "cell_type": "code",
   "execution_count": null,
   "metadata": {
    "collapsed": true
   },
   "outputs": [],
   "source": []
  }
 ],
 "metadata": {
  "kernelspec": {
   "display_name": "Python 3",
   "language": "python",
   "name": "python3"
  },
  "language_info": {
   "codemirror_mode": {
    "name": "ipython",
    "version": 3
   },
   "file_extension": ".py",
   "mimetype": "text/x-python",
   "name": "python",
   "nbconvert_exporter": "python",
   "pygments_lexer": "ipython3",
   "version": "3.6.0"
  }
 },
 "nbformat": 4,
 "nbformat_minor": 2
}
